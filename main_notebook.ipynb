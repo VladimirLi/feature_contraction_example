{
  "cells": [
    {
      "cell_type": "code",
      "execution_count": 9,
      "metadata": {
        "collapsed": true,
        "pycharm": {
          "is_executing": false
        }
      },
      "outputs": [
        {
          "name": "stdout",
          "text": [
            "(32, 28, 28, 1)\n1.0\n0.0\n"
          ],
          "output_type": "stream"
        },
        {
          "data": {
            "image/png": "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\u003d\u003d\n",
            "text/plain": "\u003cFigure size 432x288 with 1 Axes\u003e"
          },
          "metadata": {
            "needs_background": "light"
          },
          "output_type": "display_data"
        }
      ],
      "source": "from modules import mnist\nimport matplotlib.pyplot as plt\nimport numpy as np\n\n\nbs \u003d 32\ntrain_set, test_set \u003d mnist.get_data(bs)\nfor image, label in train_set:\n    print(np.shape(image))\n    print(np.max(image))\n    print(np.min(image))\n    plt.imshow(np.squeeze(image[0]))\n    plt.axis(\"off\")\n    break\n "
    },
    {
      "cell_type": "code",
      "execution_count": null,
      "outputs": [],
      "source": "\n",
      "metadata": {
        "pycharm": {
          "metadata": false,
          "name": "#%%\n"
        }
      }
    }
  ],
  "metadata": {
    "language_info": {
      "codemirror_mode": {
        "name": "ipython",
        "version": 2
      },
      "file_extension": ".py",
      "mimetype": "text/x-python",
      "name": "python",
      "nbconvert_exporter": "python",
      "pygments_lexer": "ipython2",
      "version": "2.7.6"
    },
    "kernelspec": {
      "name": "pycharm-293e82eb",
      "language": "python",
      "display_name": "PyCharm (feature_contraction)"
    }
  },
  "nbformat": 4,
  "nbformat_minor": 0
}